{
  "cells": [
    {
      "cell_type": "markdown",
      "metadata": {
        "id": "view-in-github",
        "colab_type": "text"
      },
      "source": [
        "<a href=\"https://colab.research.google.com/github/hertie-data-science-lab/assignment-2-ps-2-b/blob/added-by-elena/main.ipynb\" target=\"_parent\"><img src=\"https://colab.research.google.com/assets/colab-badge.svg\" alt=\"Open In Colab\"/></a>"
      ]
    },
    {
      "cell_type": "markdown",
      "metadata": {
        "id": "13i7KQ9t-CV8"
      },
      "source": [
        "# Problem set 2\n",
        "\n",
        "## Team\n",
        "Please write here your names and team number.\n",
        "\n",
        "* Team name: Team PS 2 B\n",
        "* Team members: Nadine Daum (245963), Nicolas Reichardt (245611), Elena Murray (239793)\n",
        "\n",
        "## AI use statement:\n",
        "Generative AI tools (e.g., ChatGPT-5, GitHub Copilot, Claude, and DeepL for translation) were consulted for proofreading, LaTeX formatting, and general optimization support. All final answers were developed + verified by the authors.\n",
        "\n",
        "## Using Colab with GitHub\n",
        "To utilize GPU support for model training, we highly recommend to open this notebook with Google Colab. Simply, change the domain from 'github.com' to 'githubtocolab.com' and refresh the site to open the notebook in Colab.\n",
        "If you haven't used Colab before with private repositories, make sure to grant Colab access to your private repositories (see screenshot) and after that just try to change the domain again.\n",
        "\n",
        "Finally, you should make sure that you add a GPU to your Colab notebook. You can do so by clicking on `Runtime` →  `Change runtime type` → `Hardware accelerator`  →  `GPU`.\n",
        "\n",
        "## Submission\n",
        "\n",
        "Make sure that you always commit and push the changes you make in Colab back to GitHub. To do so from within a Colab notebook, click `File` → `Save a copy in GitHub`. You will be prompted to add a commit message, and after you click OK, the notebook will be pushed to your repository. Only changes that are visible in your GitHub repository on the main branch will be considered for grading. If you close Colab in your browser without pushing your changes to GitHub or saving them on Google Drive, they will be lost.\n",
        "\n",
        "Make sure that all your work has been pushed to GitHub before the deadline.\n"
      ]
    },
    {
      "cell_type": "markdown",
      "metadata": {
        "id": "8ffVUKx7P6RD"
      },
      "source": [
        "Check that the GPU  enabled in your colab notebook by running the cell below."
      ]
    },
    {
      "cell_type": "code",
      "execution_count": 90,
      "metadata": {
        "id": "GPzhNed7P2i9",
        "outputId": "42c5fd1d-3f2f-4ad4-e127-0a1a076bbb40",
        "colab": {
          "base_uri": "https://localhost:8080/"
        }
      },
      "outputs": [
        {
          "output_type": "stream",
          "name": "stdout",
          "text": [
            "Device: cuda:0\n",
            "GPU: Tesla T4\n"
          ]
        }
      ],
      "source": [
        "import torch\n",
        "# Check is GPU is enabled\n",
        "device = torch.device(\"cuda:0\" if torch.cuda.is_available() else \"cpu\")\n",
        "print(\"Device: {}\".format(device))\n",
        "\n",
        "# Get specific GPU model\n",
        "if str(device) == \"cuda:0\":\n",
        "  print(\"GPU: {}\".format(torch.cuda.get_device_name(0)))"
      ]
    },
    {
      "cell_type": "markdown",
      "metadata": {
        "id": "29zJt4eFI25Y"
      },
      "source": [
        "You will be working with the EuroSAT dataset. The dataset contains 8489 pictures of 3 different land coverage types (crop, herbaceous vegetation and river). Running the lines below will download the data and return a random picture from the dataset."
      ]
    },
    {
      "cell_type": "code",
      "execution_count": 14,
      "metadata": {
        "id": "7MgSuuP3Kjx0",
        "outputId": "5d99f16d-49ab-45ea-b764-675b9cf74911",
        "colab": {
          "base_uri": "https://localhost:8080/",
          "height": 117
        }
      },
      "outputs": [
        {
          "output_type": "stream",
          "name": "stdout",
          "text": [
            "The dataset has 27000 images\n",
            "Picture number 1206 with label: 0\n"
          ]
        },
        {
          "output_type": "execute_result",
          "data": {
            "text/plain": [
              "<PIL.Image.Image image mode=RGB size=64x64>"
            ],
            "image/png": "[encoded data removed]",
            "image/jpeg": "[encoded data removed]"
          },
          "metadata": {},
          "execution_count": 14
        }
      ],
      "source": [
        "from torchvision.datasets import EuroSAT\n",
        "import os\n",
        "import numpy as np\n",
        "\n",
        "data = EuroSAT(root=os.getcwd(), download=True) #downloads the dataset to your current directory\n",
        "print(f\"The dataset has {len(data)} images\")\n",
        "randint = np.random.randint(len(data))\n",
        "\n",
        "pic, tar = data[randint]\n",
        "print(f\"Picture number {randint} with label: {tar}\")\n",
        "pic"
      ]
    },
    {
      "cell_type": "markdown",
      "metadata": {
        "id": "99jkSa_KmrDH"
      },
      "source": [
        "# Task 1: Transform the data (10 pt)\n",
        "\n",
        " Your task is to train a classifier to classify the different land usage types in the dataset. We want to select only the 50 most frequent people in the dataset, all the other people should be mapped to a common class.\n",
        "- Implement the class `rotate` that maps pictures to flipped pictures by 90, 180, 270 or 360°. The class should return an error if you try to rotate the picture by other degrees.\n",
        "- Plot a histogram with the frequencies of each class. Make sure to insert both name and label in the histogram (e.g. `AnnualCrop:0`).\n",
        "- We create a class `RotateEuroSAT` that takes as input the original dataset and returns a new dataset which contains randomly rotated pictures and whose label proportion can be customized.\n",
        "Implement the class method `_create_rotated_dataset` that returns this pictures using the previously implemented `rotate`.\n",
        "- `RotateEuroSAT` should also take care of transforming the pictures to tensors and optionally move the tensor to a GPU device."
      ]
    },
    {
      "cell_type": "code",
      "execution_count": 34,
      "metadata": {
        "id": "43onRqgGmalG"
      },
      "outputs": [],
      "source": [
        "from torch.utils.data import Subset, Dataset, random_split\n",
        "import matplotlib.pyplot as plt\n",
        "import numpy as np\n",
        "\n",
        "#Create class rotate:\n",
        "class rotate:\n",
        "\n",
        "  valid_rotations = [90, 180, 270, 360]\n",
        "\n",
        "  def __init__(self, rotation):\n",
        "    if rotation not in self.valid_rotations:\n",
        "      raise ValueError(\n",
        "                f\"Invalid rotation angle: {rotation}°.\"\n",
        "                f\"Valid rotations are: {self.valid_rotations}\")\n",
        "    self.k = rotation // 90\n",
        "    self.rotation = rotation\n",
        "\n",
        "  def __call__(self, pic):\n",
        "    if isinstance(pic, Image.Image):\n",
        "      pic = np.array(pic) # PIL → NumPy\n",
        "    elif not isinstance(pic, np.ndarray):\n",
        "      raise TypeError(f\"Unsupported image type: {type(pic)}\")\n",
        "\n",
        "    rotated = np.rot90(pic, self.k)\n",
        "\n",
        "    return Image.fromarray(rotated) # NumPy → PIL\n",
        "\n",
        "new_pic = rotate(90)(pic) # Example of rotating a picture by 90 degrees\n",
        "same_pic = rotate(360)(pic) # Example of rotating a picture by 360 degrees (should return the same picture)\n",
        "\n"
      ]
    },
    {
      "cell_type": "code",
      "source": [
        "#Test\n",
        "fig, axes = plt.subplots(1, 3, figsize=(10, 5))\n",
        "\n",
        "axes[0].imshow(pic)\n",
        "axes[0].set_title(\"Original picture\")\n",
        "axes[1].imshow(new_pic)\n",
        "axes[1].set_title(\"Rotated by 90°\")\n",
        "axes[2].imshow(same_pic)\n",
        "axes[2].set_title(\"Rotated by 360°\")"
      ],
      "metadata": {
        "colab": {
          "base_uri": "https://localhost:8080/",
          "height": 328
        },
        "id": "8ZWorDp4NLik",
        "outputId": "b60315e6-a592-4b76-9e72-7a4ec7d10c56"
      },
      "execution_count": 35,
      "outputs": [
        {
          "output_type": "execute_result",
          "data": {
            "text/plain": [
              "Text(0.5, 1.0, 'Rotated by 360°')"
            ]
          },
          "metadata": {},
          "execution_count": 35
        },
        {
          "output_type": "display_data",
          "data": {
            "text/plain": [
              "<Figure size 1000x500 with 3 Axes>"
            ],
            "image/png": "[encoded data removed]"
          },
          "metadata": {}
        }
      ]
    },
    {
      "cell_type": "code",
      "execution_count": 36,
      "metadata": {
        "id": "pulBsgV32HX-",
        "colab": {
          "base_uri": "https://localhost:8080/",
          "height": 607
        },
        "outputId": "b9fa5009-6717-479e-8cb9-f4e2e6112b88"
      },
      "outputs": [
        {
          "output_type": "display_data",
          "data": {
            "text/plain": [
              "<Figure size 1000x600 with 1 Axes>"
            ],
            "image/png": "[encoded data removed]"
          },
          "metadata": {}
        }
      ],
      "source": [
        "from collections import Counter\n",
        "\n",
        "#Plot a histogram:\n",
        "def plot_histogram(data):\n",
        "\n",
        "  #First count class labels\n",
        "  labels = [label for _, label in data]\n",
        "  label_counts = Counter(labels)\n",
        "\n",
        "  #Get label names from dataset\n",
        "  class_names = data.classes\n",
        "\n",
        "  # Create x and y labels\n",
        "  x_labels = [f\"{class_names[i]}:{i}\" for i in label_counts.keys()]\n",
        "  y_values = [label_counts[i] for i in label_counts.keys()]\n",
        "\n",
        "  #Plot\n",
        "  fig, ax = plt.subplots(figsize=(10, 6))\n",
        "  ax.bar(x_labels, y_values)\n",
        "  ax.set_title(\"Frequency of Each Class\")\n",
        "  ax.set_xlabel(\"Class (Name:Label)\")\n",
        "  ax.set_ylabel(\"Frequency\")\n",
        "  ax.tick_params(axis='x', rotation=75)\n",
        "  fig.tight_layout()\n",
        "\n",
        "  return fig, ax\n",
        "\n",
        "\n",
        "fig, ax = plot_histogram(data)\n",
        "fig.show()"
      ]
    },
    {
      "cell_type": "code",
      "execution_count": 41,
      "metadata": {
        "id": "zD-Ij7cAt_wu"
      },
      "outputs": [],
      "source": [
        "import random\n",
        "from torchvision import transforms\n",
        "\n",
        "#Create RotateEuroSAT class:\n",
        "\n",
        "class RotateEuroSAT(Dataset):\n",
        "    def __init__(self,\n",
        "                 original_data:Dataset,\n",
        "                 length:int,\n",
        "                 shares:list,\n",
        "                 device=None,\n",
        "                 seed=42):\n",
        "\n",
        "        self.original_data = original_data\n",
        "        self.length = length\n",
        "        assert sum(shares)  == 1, \"Shares must sum to 1\"\n",
        "        assert len(shares) == len(original_data.classes), \"Shares must match number of classes\"\n",
        "        self.shares = shares\n",
        "        self.seed = seed\n",
        "        self.device = device\n",
        "        self.dataset = self._create_rotated_dataset()\n",
        "\n",
        "    def __len__(self):\n",
        "        return self.length\n",
        "\n",
        "    def __getitem__(self, idx):\n",
        "        picture, label = self.dataset[idx]\n",
        "        return picture, label\n",
        "\n",
        "    def _create_rotated_dataset(self):\n",
        "\n",
        "        #Set seed for reproducibility\n",
        "        random.seed(self.seed)\n",
        "        torch.manual_seed(self.seed)\n",
        "\n",
        "        # Transform to tensors\n",
        "        to_tensor = transforms.ToTensor()\n",
        "\n",
        "        # Count how many samples per class to create\n",
        "        n_classes = len(self.original_data.classes)\n",
        "        class_counts = [int(self.length * share) for share in self.shares]\n",
        "\n",
        "        dataset = []\n",
        "\n",
        "        # For each class, sample images and apply random rotations\n",
        "        for class_idx, n_samples in enumerate(class_counts):\n",
        "            # Get all indices for this class\n",
        "            class_indices = [i for i, (_, label) in enumerate(self.original_data) if label == class_idx]\n",
        "\n",
        "            for _ in range(n_samples):\n",
        "                # Pick a random image from this class\n",
        "                img_idx = random.choice(class_indices)\n",
        "                img, label = self.original_data[img_idx]\n",
        "\n",
        "                # Apply a random rotation:\n",
        "                angle = random.choice([90, 180, 270, 360])\n",
        "                rotated_img = rotate(angle)(img) #use the rotate class from before\n",
        "\n",
        "                # Convert to tensor\n",
        "                img_tensor = to_tensor(rotated_img)\n",
        "\n",
        "                # Move to GPU if specified\n",
        "                if self.device:\n",
        "                    img_tensor = img_tensor.to(self.device)\n",
        "\n",
        "                dataset.append((img_tensor, label))\n",
        "\n",
        "        return dataset\n"
      ]
    },
    {
      "cell_type": "code",
      "execution_count": 42,
      "metadata": {
        "id": "brNBHRJu2HX_"
      },
      "outputs": [],
      "source": [
        "rotated_data = RotateEuroSAT(data,\n",
        "                             length=10**4,\n",
        "                             shares=[1 / len(data.classes) for _ in data.classes],\n",
        "                             seed=42)\n",
        "\n",
        "train_data, test_data = random_split(rotated_data, [0.8, 0.2])"
      ]
    },
    {
      "cell_type": "markdown",
      "metadata": {
        "id": "RuDwG0K5hN8K"
      },
      "source": [
        "## Task 2: Implement a max pooling class and a CNN model(15 pt)\n",
        "Implement a classification model to predict the label of the faces in the dataset. You are free to experiment with the network architecture. However your model **must** contain:\n",
        "- At least one max pooling layer, implemented with `MyMaxPool`,\n",
        "- Convolutional, linear, and pooling layers only,\n",
        "- At least 3 convolutional layers, with at least two different kernel sizes,\n",
        "- A final output layer that is customizable to the number of classes that we want to predict.\n",
        "\n",
        "#### Briefly explain why you chose the particular architecture you implemented (around 2-3 sentences).\n"
      ]
    },
    {
      "cell_type": "code",
      "source": [
        "import torch\n",
        "import torch.nn as nn\n",
        "\n",
        "# Create MyMaxPool:\n",
        "\n",
        "class MyMaxPool(nn.Module): # use nn.Module instead of nn.Sequential to make it simpler\n",
        "    def __init__(self, kernel_size, stride=None):\n",
        "        super().__init__()\n",
        "        self.k = kernel_size\n",
        "        self.s = stride or kernel_size\n",
        "\n",
        "    def forward(self, x):\n",
        "        B, C, H, W = x.shape\n",
        "        x_unfold = x.unfold(2, self.k, self.s).unfold(3, self.k, self.s)\n",
        "        x_pooled = x_unfold.contiguous().view(B, C, x_unfold.shape[2], x_unfold.shape[3], -1)\n",
        "        return x_pooled.max(dim=-1)[0]"
      ],
      "metadata": {
        "id": "3h_3d4reqgUo"
      },
      "execution_count": 55,
      "outputs": []
    },
    {
      "cell_type": "code",
      "source": [
        "# Small test to see how it's working:\n",
        "x = torch.arange(1, 17).float().reshape(1, 1, 4, 4)\n",
        "\n",
        "pool = MyMaxPool(kernel_size=2, stride=2)\n",
        "out = pool(x)\n",
        "\n",
        "print(\"Input:\\n\", x[0,0])\n",
        "print(\"Output after pooling:\\n\", out[0,0])"
      ],
      "metadata": {
        "colab": {
          "base_uri": "https://localhost:8080/"
        },
        "id": "Kcixa9bjrGtp",
        "outputId": "d8a43118-c4d7-401b-bbf5-29f21c14add3"
      },
      "execution_count": 54,
      "outputs": [
        {
          "output_type": "stream",
          "name": "stdout",
          "text": [
            "Input:\n",
            " tensor([[ 1.,  2.,  3.,  4.],\n",
            "        [ 5.,  6.,  7.,  8.],\n",
            "        [ 9., 10., 11., 12.],\n",
            "        [13., 14., 15., 16.]])\n",
            "Output after pooling:\n",
            " tensor([[ 6.,  8.],\n",
            "        [14., 16.]])\n"
          ]
        }
      ]
    },
    {
      "cell_type": "markdown",
      "source": [
        "So, this max pooling layer is customisable and allows us to input and decide the kernel size and stride size before we apply it."
      ],
      "metadata": {
        "id": "kMlTsu5Lw1JR"
      }
    },
    {
      "cell_type": "code",
      "source": [
        "class MyCNNModel(nn.Sequential):\n",
        "    def __init__(self, n_classes):\n",
        "        super().__init__(\n",
        "            # Conv Layer 1 (k = 3)\n",
        "            nn.Conv2d(3, 32, kernel_size=3, padding=1),   # 3x64x64 → 32x64x64\n",
        "            nn.ReLU(),\n",
        "\n",
        "            # Conv Layer 2 (k = 5)\n",
        "            nn.Conv2d(32, 64, kernel_size=5, padding=2),  # 32x64x64 → 64x64x64\n",
        "            nn.ReLU(),\n",
        "\n",
        "            # Apply Max Pooling (k = 2, s = 2)\n",
        "            MyMaxPool(kernel_size=2, stride=2),           # 64x64x64 → 64x32x32\n",
        "\n",
        "            # Conv Layer 3 (k = 3)\n",
        "            nn.Conv2d(64, 128, kernel_size=3, padding=1), # 64x32x32 → 128x32x32\n",
        "            nn.ReLU(),\n",
        "\n",
        "            # Conv Layer 4 (k = 3)\n",
        "            nn.Conv2d(128, 128, kernel_size=3, padding=1),# 128x32x32 → 128x32x32\n",
        "            nn.ReLU(),\n",
        "\n",
        "            # Flatten\n",
        "            nn.Flatten(),                                 # → 128×32×32 = 131072\n",
        "            nn.Linear(128 * 32 * 32, 256),\n",
        "            nn.ReLU(),\n",
        "            nn.Linear(256, n_classes),\n",
        "\n",
        "            # Softmax for class probabilities\n",
        "            nn.Softmax(dim=1)\n",
        "        )\n",
        "\n",
        "    def forward(self, x):\n",
        "        return super().forward(x)"
      ],
      "metadata": {
        "id": "yaoE3uMCymo0"
      },
      "execution_count": 78,
      "outputs": []
    },
    {
      "cell_type": "code",
      "source": [
        "#print one iteration of your model to test its correctness\n",
        "\n",
        "my_model = MyCNNModel(n_classes=10) #change to 10 classes\n",
        "X, y = train_data[0]\n",
        "output = my_model(X[None, :])\n",
        "predicted = output.argmax(dim=1).item()  # Get predicted class\n",
        "\n",
        "probs = torch.softmax(output, dim=1)\n",
        "\n",
        "print(\"Class probabilities:\", probs)\n",
        "print(\"Predicted:\", predicted)\n",
        "print(\"True label:\", y)"
      ],
      "metadata": {
        "colab": {
          "base_uri": "https://localhost:8080/"
        },
        "id": "byQ5qPKp3fs2",
        "outputId": "5018f290-ced7-49f8-93b8-749f90f65cc7"
      },
      "execution_count": 84,
      "outputs": [
        {
          "output_type": "stream",
          "name": "stdout",
          "text": [
            "Class probabilities: tensor([[0.1001, 0.0996, 0.0994, 0.1004, 0.1003, 0.1001, 0.0996, 0.1004, 0.0998,\n",
            "         0.1004]], grad_fn=<SoftmaxBackward0>)\n",
            "Predicted: 9\n",
            "True label: 7\n"
          ]
        }
      ]
    },
    {
      "cell_type": "markdown",
      "source": [
        "#ADD: why did we choose this architecture."
      ],
      "metadata": {
        "id": "7CmhZPyX5tMS"
      }
    },
    {
      "cell_type": "markdown",
      "metadata": {
        "id": "No6lasumGTkQ"
      },
      "source": [
        "## Training\n",
        "\n",
        "We define a `Trainer` function to train our model that returns avg loss and avg accuracy per epoch. We set the configuration of the trainer is set in the `cfg` dictionary. Use the trainer to train your model and make sure to print and plot avg loss and accuracy using the in-built commands."
      ]
    },
    {
      "cell_type": "code",
      "execution_count": 88,
      "metadata": {
        "id": "ZsUHs5doTPD0"
      },
      "outputs": [],
      "source": [
        "from datetime import datetime as dt\n",
        "import torch.optim as optim\n",
        "from torch.utils.data import DataLoader\n",
        "from tqdm import tqdm\n",
        "import matplotlib.pyplot as plt\n",
        "\n",
        "cfg = {\n",
        "    'batch_size': 64,\n",
        "    'criterion': 'NLLLoss', #changed from 'CrossEntropyLoss to 'NLLLoss' due to applying a softmax in the last layer of your model\n",
        "    'epochs': 1,\n",
        "    'learning_rate': 0.001,\n",
        "    'optimizer':'Adam',\n",
        "    'seed':42,\n",
        "\n",
        "}\n",
        "\n",
        "class Trainer:\n",
        "\n",
        "    def __init__(self, model, cfg):\n",
        "        self.model = model\n",
        "        self.cfg = cfg\n",
        "\n",
        "        for key, val in cfg.items():\n",
        "            setattr(self, key, val)\n",
        "\n",
        "        self.optimizer = getattr(optim, self.optimizer)(self.model.parameters(), lr=self.learning_rate)\n",
        "        self.criterion = getattr(nn, self.criterion)()\n",
        "\n",
        "\n",
        "    def iter_step(self, X, Y):\n",
        "        Y_pred = self.model(X)\n",
        "        loss = self.criterion(Y_pred, Y)\n",
        "        acc = (Y_pred.argmax(dim=-1) == Y).to(torch.float).mean()\n",
        "        return loss, acc\n",
        "\n",
        "    def train(self, dataset):\n",
        "        train_dataloader = DataLoader(dataset, batch_size=self.batch_size, shuffle=True, generator=torch.manual_seed(self.seed))\n",
        "        avg_loss, avg_acc = [], []\n",
        "        tot_loss, tot_acc = 0, 0\n",
        "        for epoch in range(self.epochs):\n",
        "            iterdata = iter(train_dataloader)\n",
        "            train_size = len(iterdata)\n",
        "            pbar = tqdm(iterable=range(train_size))\n",
        "\n",
        "            for i in pbar:\n",
        "                batch = next(iterdata)\n",
        "                X_batch, Y_batch = batch #this is needed for compatibility with pbar\n",
        "                self.model.train()\n",
        "                self.optimizer.zero_grad()\n",
        "                loss, acc = self.iter_step(X_batch, Y_batch)\n",
        "                loss.backward()\n",
        "                self.optimizer.step()\n",
        "                tot_loss += loss.item()\n",
        "                tot_acc += acc.item()\n",
        "                avg_loss.append(tot_loss / max(1, len(avg_loss)))\n",
        "                avg_acc.append(tot_acc / max(1, len(avg_acc)))\n",
        "                desc = f'Epoch:{epoch} - Avg loss:{avg_loss[-1]:.5f} - Avg acc:{avg_acc[-1]:.5f}'\n",
        "                pbar.set_description(desc)\n",
        "\n",
        "        return avg_loss, avg_acc\n",
        "\n",
        "    def test(self, dataset):\n",
        "        avg_test_loss, avg_test_acc = [], []\n",
        "        test_loss, test_acc = 0, 0\n",
        "        self.model.eval()\n",
        "        test_dataloader = DataLoader(dataset, batch_size=self.batch_size, shuffle=True, generator=torch.manual_seed(self.seed))\n",
        "\n",
        "        for X_batch, Y_batch in iter(test_dataloader):\n",
        "            loss, acc = self.iter_step(X_batch, Y_batch)\n",
        "            test_loss += loss.item()\n",
        "            test_acc += acc\n",
        "            avg_test_loss.append(test_loss / max(1, len(avg_test_loss)))\n",
        "            avg_test_acc.append(test_acc / max(1, len(avg_test_acc)))\n",
        "\n",
        "        return avg_test_loss, avg_test_acc\n",
        "\n"
      ]
    },
    {
      "cell_type": "code",
      "execution_count": null,
      "metadata": {
        "id": "3iDGmuiGksqP"
      },
      "outputs": [],
      "source": [
        "# train your model\n",
        "\n",
        "#set up trainer\n",
        "my_trainer = Trainer(my_model, cfg)\n",
        "\n",
        "#train model\n",
        "train_loss, train_acc = my_trainer.train(train_data)\n"
      ]
    },
    {
      "cell_type": "code",
      "source": [
        "# plot accuracy and loss by iteration (one iteration=one batch)\n",
        "\n",
        "#plot training loss and accuracy per iteration\n",
        "fig, (ax0, ax1) = plt.subplots(1,2)\n",
        "\n",
        "#plot\n",
        "ax0.plot(range(len(train_loss)), train_loss)\n",
        "ax1.plot(range(len(train_acc)), train_acc)\n",
        "ax0.set_title('Training loss')\n",
        "ax1.set_title('Training accuracy')\n",
        "\n",
        "plt.show()"
      ],
      "metadata": {
        "id": "6grcl0kx97gK"
      },
      "execution_count": null,
      "outputs": []
    },
    {
      "cell_type": "code",
      "execution_count": null,
      "metadata": {
        "id": "JDfgU18pllpT"
      },
      "outputs": [],
      "source": [
        "# test your model\n",
        "\n",
        "#test model\n",
        "test_loss, test_acc = my_trainer.test(test_data)\n"
      ]
    },
    {
      "cell_type": "code",
      "source": [
        "# plot accuracy and loss by iteration (one iteration=one batch)\n",
        "\n",
        "#plot test loss and accuracy per iteration\n",
        "fig, (ax0, ax1) = plt.subplots(1,2)\n",
        "\n",
        "#plot\n",
        "ax0.plot(range(len(test_loss)), test_loss)\n",
        "ax1.plot(range(len(test_acc)), test_acc)\n",
        "ax0.set_title('Test loss')\n",
        "ax1.set_title('Test accuracy')"
      ],
      "metadata": {
        "id": "TUEHi7Q_-EyJ"
      },
      "execution_count": null,
      "outputs": []
    },
    {
      "cell_type": "markdown",
      "metadata": {
        "id": "_AvPUd76zVOk"
      },
      "source": [
        "## Task 3: Tune your training hyperparameters (optional, 10 pt)\n",
        "\n",
        "Implement a method <code>grid_search</code>, which looks for the best possible learning rates and training batch sizes for your model <code>MyCNNModel</code> and returns the best possible model, the corresponding training configuration, and the final training avg losses and accuracies (as numbers)."
      ]
    },
    {
      "cell_type": "code",
      "execution_count": null,
      "metadata": {
        "id": "AJtGS3EB4NFy"
      },
      "outputs": [],
      "source": [
        "#optional\n",
        "def grid_search(train_dataset, cfg, learning_rates=[10**-1, 10**-2, 10**-3], batch_sizes=[2**5, 2**6, 2**7]):\n",
        "    '''#TODO: here your code '''\n",
        "    return best_model, best_cfg, best_avg_loss, best_avg_acc\n",
        "\n",
        "\n",
        "best_model, best_cfg, best_avg_loss, best_avg_acc = grid_search(train_data, cfg, learning_rates=[10**-1, 10**-2, 10**-3], batch_sizes=[2**5, 2**6, 2**7])\n",
        "print(f\"Best model achieves {best_avg_loss:.2f} loss and {best_avg_acc:.1%} accuracy\").\n"
      ]
    },
    {
      "cell_type": "markdown",
      "metadata": {
        "id": "CLLCQpv14Gsx"
      },
      "source": [
        "## Task 3: Load and fine-tune a pre-trained model (10 pt)\n",
        "\n",
        "<ul>\n",
        "  <li>Load and train a pre-trained model for classification problems, such as those made available in <a href=\"https://huggingface.co/docs/timm\">Hugging Face's timm library</a>. </li>\n",
        "  <li> Make sure to modify the output layer to be compatible with the number of classes. </li>\n",
        "  <li>Print a summary of your results.</li>\n",
        "  <li>Briefly explain why you chose the particular architecture you did (around 2-3 sentences).</li>\n",
        "  </ul>\n",
        "  \n",
        "<b>Note</b>: in case you run into computing-related (e.g. memory) issues, consider choosing another model."
      ]
    },
    {
      "cell_type": "code",
      "execution_count": null,
      "metadata": {
        "id": "Na1giLKlT0M3"
      },
      "outputs": [],
      "source": [
        "'''#TODO: import and fine-tune a pretrained model'''\n",
        "loaded_model = None #here your loaded model\n",
        "loaded_trainer = Trainer(loaded_model, cfg)"
      ]
    },
    {
      "cell_type": "code",
      "execution_count": null,
      "metadata": {
        "id": "wXjFg5gNl1iO"
      },
      "outputs": [],
      "source": [
        "'''#TODO: train your model, plot accuracy and loss by iteration (one iteration=one batch)'''\n",
        "train_loss, train_acc = loaded_trainer.train(train_data)\n",
        "fig, (ax0, ax1) = plt.subplots(1,2)\n",
        "ax0.plot(range(len(train_loss)), train_loss)\n",
        "ax1.plot(range(len(train_acc)), train_acc)\n",
        "ax0.set_title('Training loss')\n",
        "ax1.set_title('Training accuracy')"
      ]
    },
    {
      "cell_type": "code",
      "execution_count": null,
      "metadata": {
        "id": "rjKQ8pVql1iO"
      },
      "outputs": [],
      "source": [
        "'''#TODO: test your model, plot accuracy and loss by iteration (one iteration=one batch)'''\n",
        "test_loss, test_acc = loaded_trainer.test(test_data)\n",
        "fig, (ax0, ax1) = plt.subplots(1,2)\n",
        "ax0.plot(range(len(test_loss)), test_loss)\n",
        "ax1.plot(range(len(test_acc)), test_acc)\n",
        "ax0.set_title('Test loss')\n",
        "ax1.set_title('Test accuracy')\n"
      ]
    },
    {
      "cell_type": "markdown",
      "metadata": {
        "id": "ZhkmytKNU_Z2"
      },
      "source": [
        "<a name=\"results-and-discussion\"></a>\n",
        "# Task  4: Results and discussion (5pt)\n",
        "\n",
        "Report the final metrics and make a few comments on the overall performance for the networks you implemented (3-4 lines).\n",
        "\n",
        "| Test metric         | your model | pre-trained model | your tuned model (optional) |\n",
        "|---------------------|--------------------|-------------------|-----------------------|\n",
        "| Accuracy (train)           |              |             |                |                     \n",
        "| Loss (train)               |               |             |                |    \n",
        "| Accuracy (test)           |              |             |                |                     \n",
        "| Loss (test)               |               |             |                |              \n",
        "             \n",
        "\n",
        "\n",
        "\n"
      ]
    }
  ],
  "metadata": {
    "accelerator": "GPU",
    "colab": {
      "gpuType": "T4",
      "provenance": [],
      "include_colab_link": true
    },
    "kernelspec": {
      "display_name": "Python 3",
      "name": "python3"
    },
    "language_info": {
      "codemirror_mode": {
        "name": "ipython",
        "version": 3
      },
      "file_extension": ".py",
      "mimetype": "text/x-python",
      "name": "python",
      "nbconvert_exporter": "python",
      "pygments_lexer": "ipython3",
      "version": "3.12.4"
    }
  },
  "nbformat": 4,
  "nbformat_minor": 0
}